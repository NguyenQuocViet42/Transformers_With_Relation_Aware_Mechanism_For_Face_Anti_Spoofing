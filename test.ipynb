{
 "cells": [
  {
   "cell_type": "code",
   "execution_count": 64,
   "metadata": {},
   "outputs": [
    {
     "data": {
      "text/plain": [
       "torch.Size([224, 224, 3])"
      ]
     },
     "execution_count": 64,
     "metadata": {},
     "output_type": "execute_result"
    }
   ],
   "source": [
    "import cv2\n",
    "import torch\n",
    "\n",
    "image = cv2.imread('/media/quocviet/SSD Data/Viet_FAS/CelebA_Spoof/image_preprocessed/spoof_face/495357.png')\n",
    "image = cv2.resize(image, (224,224))\n",
    "image = torch.tensor(image, dtype=torch.long)\n",
    "image.shape"
   ]
  },
  {
   "cell_type": "code",
   "execution_count": 65,
   "metadata": {},
   "outputs": [
    {
     "data": {
      "text/plain": [
       "torch.Size([196, 768])"
      ]
     },
     "execution_count": 65,
     "metadata": {},
     "output_type": "execute_result"
    }
   ],
   "source": [
    "image = image.unfold(0, 16, 16).unfold(1, 16, 16)\n",
    "image = image.reshape(-1, 3, 16, 16)\n",
    "image = image.reshape(image.size(0),-1)\n",
    "image.shape"
   ]
  },
  {
   "cell_type": "code",
   "execution_count": 66,
   "metadata": {},
   "outputs": [],
   "source": [
    "import torch.nn as nn\n",
    "import torch\n",
    "from einops.layers.torch import Rearrange\n",
    "\n",
    "\n",
    "class Input_layer(nn.Module):\n",
    "    \n",
    "    patch_size = 16\n",
    "    num_patches = (224 // patch_size)**2 + 1\n",
    "    embed_dim = 196\n",
    "    \n",
    "    def flatten_image(self, batch_image):\n",
    "        output = []\n",
    "        for i in range(batch_image.shape[0]):\n",
    "            image = batch_image[i]\n",
    "            image = image.unfold(0, self.patch_size, self.patch_size).unfold(1, self.patch_size, self.patch_size)\n",
    "            image = image.reshape(-1, 3, self.patch_size, self.patch_size)\n",
    "            image = image.reshape(image.size(0),-1)\n",
    "            output.append(image)\n",
    "        return torch.stack(output)\n",
    "    \n",
    "    def __init__(self):\n",
    "        super(Input_layer, self).__init__()\n",
    "        \n",
    "        \n",
    "        self.patch_embedding=nn.Sequential(\n",
    "            # Rearrange('b c (h px) (w py) -> b (h w) (px py c)', px=self.patch_size, py=self.patch_size),\n",
    "            nn.Linear(self.patch_size*self.patch_size*3, self.embed_dim)\n",
    "        )\n",
    "        \n",
    "        self.cls_token = nn.Parameter(torch.randn(1, 1, self.embed_dim))\n",
    "        self.positional_embedding=nn.Parameter(torch.randn(1, self.num_patches, self.embed_dim))\n",
    "    \n",
    "    def forward(self, batch_image):\n",
    "        patches = self.flatten_image(batch_image)\n",
    "        Zp = self.patch_embedding(patches)\n",
    "        Zcls = self.cls_token.repeat(batch_image.size(0), 1, 1)\n",
    "        Zcls_p = torch.cat((Zcls, Zp), dim=1)\n",
    "        Zpos = self.positional_embedding\n",
    "        print(Zpos.shape)\n",
    "        output = Zcls_p + Zpos\n",
    "        return output\n"
   ]
  },
  {
   "cell_type": "code",
   "execution_count": 67,
   "metadata": {},
   "outputs": [
    {
     "name": "stdout",
     "output_type": "stream",
     "text": [
      "torch.Size([1, 197, 196])\n"
     ]
    },
    {
     "data": {
      "text/plain": [
       "torch.Size([2, 197, 196])"
      ]
     },
     "execution_count": 67,
     "metadata": {},
     "output_type": "execute_result"
    }
   ],
   "source": [
    "image = cv2.imread('/media/quocviet/SSD Data/Viet_FAS/CelebA_Spoof/image_preprocessed/spoof_face/495357.png')\n",
    "image = cv2.resize(image, (224,224))\n",
    "image = torch.tensor(image, dtype=torch.float)\n",
    "# image = image.permute(2, 0, 1).unsqueeze(0)\n",
    "image = image.unsqueeze(0)\n",
    "image = torch.cat((image, image),  dim = 0)\n",
    "\n",
    "patch_size = 16\n",
    "def flatten_image(batch_image):\n",
    "    output = []\n",
    "    for i in range(batch_image.shape[0]):\n",
    "        image = batch_image[i]\n",
    "        image = image.unfold(0, patch_size, patch_size).unfold(1, patch_size, patch_size)\n",
    "        image = image.reshape(-1, 3, patch_size, patch_size)\n",
    "        image = image.reshape(image.size(0),-1)\n",
    "        output.append(image)\n",
    "    return torch.stack(output)\n",
    "\n",
    "# flatten_image(image).shape\n",
    "test = Input_layer()\n",
    "image = test(image)\n",
    "image.shape"
   ]
  }
 ],
 "metadata": {
  "kernelspec": {
   "display_name": "Python 3",
   "language": "python",
   "name": "python3"
  },
  "language_info": {
   "codemirror_mode": {
    "name": "ipython",
    "version": 3
   },
   "file_extension": ".py",
   "mimetype": "text/x-python",
   "name": "python",
   "nbconvert_exporter": "python",
   "pygments_lexer": "ipython3",
   "version": "3.11.4"
  },
  "orig_nbformat": 4
 },
 "nbformat": 4,
 "nbformat_minor": 2
}
