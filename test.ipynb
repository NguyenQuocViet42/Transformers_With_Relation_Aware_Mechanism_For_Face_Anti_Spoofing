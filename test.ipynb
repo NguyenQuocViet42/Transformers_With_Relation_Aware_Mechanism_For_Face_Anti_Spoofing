{
 "cells": [
  {
   "cell_type": "code",
   "execution_count": 1,
   "metadata": {},
   "outputs": [
    {
     "data": {
      "text/plain": [
       "torch.Size([2, 224, 224, 3])"
      ]
     },
     "execution_count": 1,
     "metadata": {},
     "output_type": "execute_result"
    }
   ],
   "source": [
    "import cv2\n",
    "import torch\n",
    "\n",
    "image = cv2.imread('image.jpg')\n",
    "image = cv2.resize(image, (224,224))\n",
    "image = torch.tensor(image, dtype=torch.float)\n",
    "image = image.unsqueeze(0)\n",
    "image = torch.cat((image, image),  dim = 0)\n",
    "image.shape"
   ]
  },
  {
   "cell_type": "code",
   "execution_count": 2,
   "metadata": {},
   "outputs": [
    {
     "name": "stderr",
     "output_type": "stream",
     "text": [
      "/home/quocviet/miniconda3/lib/python3.11/site-packages/tqdm/auto.py:21: TqdmWarning: IProgress not found. Please update jupyter and ipywidgets. See https://ipywidgets.readthedocs.io/en/stable/user_install.html\n",
      "  from .autonotebook import tqdm as notebook_tqdm\n"
     ]
    }
   ],
   "source": [
    "from model import Layer\n",
    "\n",
    "input_layer = Layer.Input_layer()\n",
    "encoder_layer = Layer.Encoder_layer()\n",
    "decoder_layer = Layer.Decoder_layer()\n",
    "cra = Layer.CRA()"
   ]
  },
  {
   "cell_type": "code",
   "execution_count": 1,
   "metadata": {},
   "outputs": [
    {
     "name": "stderr",
     "output_type": "stream",
     "text": [
      "Downloading (…)lve/main/config.json: 100%|██████████| 69.6k/69.6k [00:00<00:00, 283kB/s]\n",
      "c:\\Users\\ASUS\\AppData\\Local\\Programs\\Python\\Python39\\lib\\site-packages\\huggingface_hub\\file_download.py:133: UserWarning: `huggingface_hub` cache-system uses symlinks by default to efficiently store duplicated files but your machine does not support them in C:\\Users\\ASUS\\.cache\\huggingface\\hub. Caching files will still work but in a degraded version that might require more space on your disk. This warning can be disabled by setting the `HF_HUB_DISABLE_SYMLINKS_WARNING` environment variable. For more details, see https://huggingface.co/docs/huggingface_hub/how-to-cache#limitations.\n",
      "To support symlinks on Windows, you either need to activate Developer Mode or to run Python as an administrator. In order to see activate developer mode, see this article: https://docs.microsoft.com/en-us/windows/apps/get-started/enable-your-device-for-development\n",
      "  warnings.warn(message)\n",
      "You are using a model of type vit to instantiate a model of type deit. This is not supported for all configurations of models and can yield errors.\n",
      "Downloading pytorch_model.bin: 100%|██████████| 23.0M/23.0M [00:04<00:00, 5.65MB/s]\n",
      "Some weights of DeiTForImageClassificationWithTeacher were not initialized from the model checkpoint at facebook/deit-tiny-patch16-224 and are newly initialized: ['encoder.layer.5.attention.attention.value.weight', 'encoder.layer.7.output.dense.weight', 'encoder.layer.2.attention.output.dense.bias', 'encoder.layer.6.attention.output.dense.bias', 'encoder.layer.9.intermediate.dense.bias', 'encoder.layer.7.attention.output.dense.bias', 'encoder.layer.1.attention.output.dense.weight', 'encoder.layer.9.attention.attention.query.bias', 'encoder.layer.6.layernorm_after.bias', 'encoder.layer.10.attention.output.dense.weight', 'encoder.layer.7.attention.attention.key.weight', 'encoder.layer.10.output.dense.bias', 'encoder.layer.0.layernorm_after.bias', 'encoder.layer.9.attention.output.dense.bias', 'encoder.layer.1.layernorm_before.bias', 'encoder.layer.1.attention.attention.query.bias', 'encoder.layer.8.attention.attention.key.bias', 'encoder.layer.6.attention.attention.value.bias', 'layernorm.weight', 'encoder.layer.4.attention.attention.value.weight', 'encoder.layer.8.intermediate.dense.weight', 'encoder.layer.5.attention.attention.query.bias', 'encoder.layer.8.layernorm_after.weight', 'encoder.layer.2.attention.attention.key.weight', 'encoder.layer.6.attention.attention.key.weight', 'encoder.layer.6.intermediate.dense.bias', 'cls_classifier.weight', 'encoder.layer.5.attention.attention.query.weight', 'distillation_classifier.weight', 'encoder.layer.2.attention.output.dense.weight', 'encoder.layer.3.attention.output.dense.weight', 'encoder.layer.8.layernorm_before.weight', 'encoder.layer.0.attention.attention.value.weight', 'encoder.layer.4.attention.output.dense.weight', 'encoder.layer.1.layernorm_after.weight', 'encoder.layer.5.layernorm_before.bias', 'encoder.layer.10.attention.attention.value.weight', 'encoder.layer.7.output.dense.bias', 'encoder.layer.1.attention.attention.key.weight', 'encoder.layer.6.layernorm_before.weight', 'encoder.layer.10.attention.attention.key.bias', 'encoder.layer.6.layernorm_after.weight', 'encoder.layer.10.attention.attention.key.weight', 'encoder.layer.7.layernorm_before.bias', 'encoder.layer.9.intermediate.dense.weight', 'encoder.layer.7.attention.attention.key.bias', 'encoder.layer.10.output.dense.weight', 'encoder.layer.9.output.dense.bias', 'distillation_classifier.bias', 'encoder.layer.9.attention.attention.value.weight', 'encoder.layer.4.layernorm_before.bias', 'encoder.layer.7.layernorm_after.bias', 'encoder.layer.2.attention.attention.query.bias', 'encoder.layer.4.output.dense.weight', 'encoder.layer.3.output.dense.bias', 'encoder.layer.6.layernorm_before.bias', 'encoder.layer.11.attention.attention.query.bias', 'encoder.layer.5.intermediate.dense.bias', 'encoder.layer.0.output.dense.bias', 'encoder.layer.8.attention.attention.value.bias', 'encoder.layer.11.attention.output.dense.weight', 'encoder.layer.11.output.dense.weight', 'cls_classifier.bias', 'encoder.layer.3.layernorm_after.weight', 'encoder.layer.4.layernorm_before.weight', 'encoder.layer.0.attention.attention.query.weight', 'encoder.layer.3.intermediate.dense.bias', 'encoder.layer.10.attention.attention.query.weight', 'encoder.layer.5.attention.output.dense.bias', 'encoder.layer.6.intermediate.dense.weight', 'encoder.layer.10.attention.attention.value.bias', 'encoder.layer.2.output.dense.bias', 'encoder.layer.3.attention.attention.value.bias', 'encoder.layer.1.output.dense.weight', 'encoder.layer.7.attention.attention.value.bias', 'encoder.layer.1.attention.attention.query.weight', 'encoder.layer.0.attention.attention.key.weight', 'encoder.layer.2.layernorm_after.weight', 'encoder.layer.7.layernorm_after.weight', 'encoder.layer.0.layernorm_before.weight', 'encoder.layer.11.intermediate.dense.bias', 'embeddings.patch_embeddings.projection.bias', 'encoder.layer.2.intermediate.dense.bias', 'encoder.layer.5.attention.output.dense.weight', 'encoder.layer.9.attention.attention.query.weight', 'encoder.layer.3.layernorm_before.weight', 'encoder.layer.7.layernorm_before.weight', 'encoder.layer.10.layernorm_after.weight', 'encoder.layer.5.layernorm_after.bias', 'encoder.layer.5.output.dense.weight', 'encoder.layer.0.attention.output.dense.bias', 'encoder.layer.0.intermediate.dense.bias', 'encoder.layer.3.attention.attention.key.bias', 'encoder.layer.4.intermediate.dense.bias', 'encoder.layer.9.layernorm_before.weight', 'embeddings.patch_embeddings.projection.weight', 'encoder.layer.8.attention.output.dense.bias', 'encoder.layer.5.attention.attention.key.weight', 'encoder.layer.4.layernorm_after.bias', 'encoder.layer.4.attention.attention.key.weight', 'encoder.layer.3.layernorm_after.bias', 'encoder.layer.10.layernorm_before.bias', 'encoder.layer.8.output.dense.bias', 'encoder.layer.6.output.dense.bias', 'embeddings.distillation_token', 'encoder.layer.0.layernorm_after.weight', 'encoder.layer.1.attention.output.dense.bias', 'encoder.layer.8.layernorm_before.bias', 'encoder.layer.5.layernorm_after.weight', 'encoder.layer.10.attention.output.dense.bias', 'encoder.layer.0.attention.attention.query.bias', 'encoder.layer.3.output.dense.weight', 'encoder.layer.2.attention.attention.value.weight', 'encoder.layer.3.attention.attention.value.weight', 'encoder.layer.11.layernorm_before.bias', 'encoder.layer.1.layernorm_before.weight', 'encoder.layer.2.layernorm_before.bias', 'encoder.layer.11.layernorm_before.weight', 'encoder.layer.10.intermediate.dense.weight', 'encoder.layer.7.intermediate.dense.weight', 'encoder.layer.10.layernorm_before.weight', 'encoder.layer.8.output.dense.weight', 'encoder.layer.4.attention.attention.query.weight', 'encoder.layer.7.attention.attention.value.weight', 'encoder.layer.0.layernorm_before.bias', 'encoder.layer.1.output.dense.bias', 'encoder.layer.2.attention.attention.value.bias', 'encoder.layer.11.output.dense.bias', 'encoder.layer.8.attention.attention.query.bias', 'encoder.layer.10.intermediate.dense.bias', 'encoder.layer.6.output.dense.weight', 'encoder.layer.11.attention.attention.query.weight', 'encoder.layer.7.intermediate.dense.bias', 'encoder.layer.3.attention.attention.query.weight', 'encoder.layer.5.attention.attention.key.bias', 'encoder.layer.9.attention.attention.key.bias', 'encoder.layer.9.attention.attention.value.bias', 'encoder.layer.11.intermediate.dense.weight', 'encoder.layer.10.attention.attention.query.bias', 'encoder.layer.11.attention.attention.value.weight', 'encoder.layer.11.attention.attention.key.bias', 'encoder.layer.3.attention.attention.key.weight', 'encoder.layer.4.attention.attention.key.bias', 'encoder.layer.7.attention.output.dense.weight', 'encoder.layer.4.intermediate.dense.weight', 'encoder.layer.0.output.dense.weight', 'encoder.layer.8.attention.attention.key.weight', 'encoder.layer.8.attention.output.dense.weight', 'encoder.layer.2.attention.attention.query.weight', 'encoder.layer.0.intermediate.dense.weight', 'encoder.layer.4.attention.attention.query.bias', 'encoder.layer.2.output.dense.weight', 'encoder.layer.8.attention.attention.query.weight', 'encoder.layer.1.attention.attention.key.bias', 'encoder.layer.6.attention.attention.value.weight', 'encoder.layer.3.layernorm_before.bias', 'encoder.layer.0.attention.attention.key.bias', 'encoder.layer.1.attention.attention.value.bias', 'embeddings.cls_token', 'encoder.layer.2.intermediate.dense.weight', 'encoder.layer.8.intermediate.dense.bias', 'encoder.layer.4.layernorm_after.weight', 'encoder.layer.9.attention.attention.key.weight', 'encoder.layer.9.attention.output.dense.weight', 'layernorm.bias', 'encoder.layer.1.layernorm_after.bias', 'encoder.layer.9.output.dense.weight', 'encoder.layer.6.attention.output.dense.weight', 'encoder.layer.9.layernorm_after.bias', 'encoder.layer.7.attention.attention.query.bias', 'encoder.layer.11.attention.attention.key.weight', 'encoder.layer.2.layernorm_before.weight', 'encoder.layer.1.intermediate.dense.bias', 'encoder.layer.3.attention.attention.query.bias', 'encoder.layer.4.attention.output.dense.bias', 'encoder.layer.1.intermediate.dense.weight', 'encoder.layer.5.attention.attention.value.bias', 'encoder.layer.6.attention.attention.query.bias', 'encoder.layer.3.attention.output.dense.bias', 'encoder.layer.2.layernorm_after.bias', 'encoder.layer.8.layernorm_after.bias', 'encoder.layer.5.output.dense.bias', 'encoder.layer.3.intermediate.dense.weight', 'encoder.layer.6.attention.attention.key.bias', 'embeddings.position_embeddings', 'encoder.layer.8.attention.attention.value.weight', 'encoder.layer.9.layernorm_after.weight', 'encoder.layer.5.layernorm_before.weight', 'encoder.layer.0.attention.attention.value.bias', 'encoder.layer.11.layernorm_after.weight', 'encoder.layer.11.attention.output.dense.bias', 'encoder.layer.5.intermediate.dense.weight', 'encoder.layer.11.layernorm_after.bias', 'encoder.layer.0.attention.output.dense.weight', 'encoder.layer.4.attention.attention.value.bias', 'encoder.layer.6.attention.attention.query.weight', 'encoder.layer.2.attention.attention.key.bias', 'encoder.layer.9.layernorm_before.bias', 'encoder.layer.7.attention.attention.query.weight', 'encoder.layer.11.attention.attention.value.bias', 'encoder.layer.1.attention.attention.value.weight', 'encoder.layer.4.output.dense.bias', 'encoder.layer.10.layernorm_after.bias']\n",
      "You should probably TRAIN this model on a down-stream task to be able to use it for predictions and inference.\n"
     ]
    },
    {
     "data": {
      "text/plain": [
       "[DeiTEncoder(\n",
       "   (layer): ModuleList(\n",
       "     (0-11): 12 x DeiTLayer(\n",
       "       (attention): DeiTAttention(\n",
       "         (attention): DeiTSelfAttention(\n",
       "           (query): Linear(in_features=192, out_features=192, bias=True)\n",
       "           (key): Linear(in_features=192, out_features=192, bias=True)\n",
       "           (value): Linear(in_features=192, out_features=192, bias=True)\n",
       "           (dropout): Dropout(p=0.0, inplace=False)\n",
       "         )\n",
       "         (output): DeiTSelfOutput(\n",
       "           (dense): Linear(in_features=192, out_features=192, bias=True)\n",
       "           (dropout): Dropout(p=0.0, inplace=False)\n",
       "         )\n",
       "       )\n",
       "       (intermediate): DeiTIntermediate(\n",
       "         (dense): Linear(in_features=192, out_features=768, bias=True)\n",
       "         (intermediate_act_fn): GELUActivation()\n",
       "       )\n",
       "       (output): DeiTOutput(\n",
       "         (dense): Linear(in_features=768, out_features=192, bias=True)\n",
       "         (dropout): Dropout(p=0.0, inplace=False)\n",
       "       )\n",
       "       (layernorm_before): LayerNorm((192,), eps=1e-12, elementwise_affine=True)\n",
       "       (layernorm_after): LayerNorm((192,), eps=1e-12, elementwise_affine=True)\n",
       "     )\n",
       "   )\n",
       " ),\n",
       " LayerNorm((192,), eps=1e-12, elementwise_affine=True)]"
      ]
     },
     "execution_count": 1,
     "metadata": {},
     "output_type": "execute_result"
    }
   ],
   "source": [
    "from transformers import ViTModel, DeiTForImageClassificationWithTeacher\n",
    "\n",
    "model_trans = DeiTForImageClassificationWithTeacher.from_pretrained('facebook/deit-tiny-patch16-224')\n",
    "\n",
    "list_layer = list(model_trans.children())\n",
    "list_layer = list(list_layer[0].children())[1:]\n",
    "list_layer"
   ]
  },
  {
   "cell_type": "code",
   "execution_count": 18,
   "metadata": {},
   "outputs": [],
   "source": [
    "import torch.nn as nn\n",
    "\n",
    "list_layer = list(model_trans.children())\n",
    "list_layer = list(list_layer[0].children())[1]\n",
    "list_layer = list(list(list_layer.children())[0].children())\n",
    "\n",
    "list_secquence = [nn.Sequential(i) for i in list_layer]"
   ]
  },
  {
   "cell_type": "code",
   "execution_count": 19,
   "metadata": {},
   "outputs": [
    {
     "data": {
      "text/plain": [
       "[Sequential(\n",
       "   (0): DeiTLayer(\n",
       "     (attention): DeiTAttention(\n",
       "       (attention): DeiTSelfAttention(\n",
       "         (query): Linear(in_features=192, out_features=192, bias=True)\n",
       "         (key): Linear(in_features=192, out_features=192, bias=True)\n",
       "         (value): Linear(in_features=192, out_features=192, bias=True)\n",
       "         (dropout): Dropout(p=0.0, inplace=False)\n",
       "       )\n",
       "       (output): DeiTSelfOutput(\n",
       "         (dense): Linear(in_features=192, out_features=192, bias=True)\n",
       "         (dropout): Dropout(p=0.0, inplace=False)\n",
       "       )\n",
       "     )\n",
       "     (intermediate): DeiTIntermediate(\n",
       "       (dense): Linear(in_features=192, out_features=768, bias=True)\n",
       "       (intermediate_act_fn): GELUActivation()\n",
       "     )\n",
       "     (output): DeiTOutput(\n",
       "       (dense): Linear(in_features=768, out_features=192, bias=True)\n",
       "       (dropout): Dropout(p=0.0, inplace=False)\n",
       "     )\n",
       "     (layernorm_before): LayerNorm((192,), eps=1e-12, elementwise_affine=True)\n",
       "     (layernorm_after): LayerNorm((192,), eps=1e-12, elementwise_affine=True)\n",
       "   )\n",
       " ),\n",
       " Sequential(\n",
       "   (0): DeiTLayer(\n",
       "     (attention): DeiTAttention(\n",
       "       (attention): DeiTSelfAttention(\n",
       "         (query): Linear(in_features=192, out_features=192, bias=True)\n",
       "         (key): Linear(in_features=192, out_features=192, bias=True)\n",
       "         (value): Linear(in_features=192, out_features=192, bias=True)\n",
       "         (dropout): Dropout(p=0.0, inplace=False)\n",
       "       )\n",
       "       (output): DeiTSelfOutput(\n",
       "         (dense): Linear(in_features=192, out_features=192, bias=True)\n",
       "         (dropout): Dropout(p=0.0, inplace=False)\n",
       "       )\n",
       "     )\n",
       "     (intermediate): DeiTIntermediate(\n",
       "       (dense): Linear(in_features=192, out_features=768, bias=True)\n",
       "       (intermediate_act_fn): GELUActivation()\n",
       "     )\n",
       "     (output): DeiTOutput(\n",
       "       (dense): Linear(in_features=768, out_features=192, bias=True)\n",
       "       (dropout): Dropout(p=0.0, inplace=False)\n",
       "     )\n",
       "     (layernorm_before): LayerNorm((192,), eps=1e-12, elementwise_affine=True)\n",
       "     (layernorm_after): LayerNorm((192,), eps=1e-12, elementwise_affine=True)\n",
       "   )\n",
       " ),\n",
       " Sequential(\n",
       "   (0): DeiTLayer(\n",
       "     (attention): DeiTAttention(\n",
       "       (attention): DeiTSelfAttention(\n",
       "         (query): Linear(in_features=192, out_features=192, bias=True)\n",
       "         (key): Linear(in_features=192, out_features=192, bias=True)\n",
       "         (value): Linear(in_features=192, out_features=192, bias=True)\n",
       "         (dropout): Dropout(p=0.0, inplace=False)\n",
       "       )\n",
       "       (output): DeiTSelfOutput(\n",
       "         (dense): Linear(in_features=192, out_features=192, bias=True)\n",
       "         (dropout): Dropout(p=0.0, inplace=False)\n",
       "       )\n",
       "     )\n",
       "     (intermediate): DeiTIntermediate(\n",
       "       (dense): Linear(in_features=192, out_features=768, bias=True)\n",
       "       (intermediate_act_fn): GELUActivation()\n",
       "     )\n",
       "     (output): DeiTOutput(\n",
       "       (dense): Linear(in_features=768, out_features=192, bias=True)\n",
       "       (dropout): Dropout(p=0.0, inplace=False)\n",
       "     )\n",
       "     (layernorm_before): LayerNorm((192,), eps=1e-12, elementwise_affine=True)\n",
       "     (layernorm_after): LayerNorm((192,), eps=1e-12, elementwise_affine=True)\n",
       "   )\n",
       " ),\n",
       " Sequential(\n",
       "   (0): DeiTLayer(\n",
       "     (attention): DeiTAttention(\n",
       "       (attention): DeiTSelfAttention(\n",
       "         (query): Linear(in_features=192, out_features=192, bias=True)\n",
       "         (key): Linear(in_features=192, out_features=192, bias=True)\n",
       "         (value): Linear(in_features=192, out_features=192, bias=True)\n",
       "         (dropout): Dropout(p=0.0, inplace=False)\n",
       "       )\n",
       "       (output): DeiTSelfOutput(\n",
       "         (dense): Linear(in_features=192, out_features=192, bias=True)\n",
       "         (dropout): Dropout(p=0.0, inplace=False)\n",
       "       )\n",
       "     )\n",
       "     (intermediate): DeiTIntermediate(\n",
       "       (dense): Linear(in_features=192, out_features=768, bias=True)\n",
       "       (intermediate_act_fn): GELUActivation()\n",
       "     )\n",
       "     (output): DeiTOutput(\n",
       "       (dense): Linear(in_features=768, out_features=192, bias=True)\n",
       "       (dropout): Dropout(p=0.0, inplace=False)\n",
       "     )\n",
       "     (layernorm_before): LayerNorm((192,), eps=1e-12, elementwise_affine=True)\n",
       "     (layernorm_after): LayerNorm((192,), eps=1e-12, elementwise_affine=True)\n",
       "   )\n",
       " ),\n",
       " Sequential(\n",
       "   (0): DeiTLayer(\n",
       "     (attention): DeiTAttention(\n",
       "       (attention): DeiTSelfAttention(\n",
       "         (query): Linear(in_features=192, out_features=192, bias=True)\n",
       "         (key): Linear(in_features=192, out_features=192, bias=True)\n",
       "         (value): Linear(in_features=192, out_features=192, bias=True)\n",
       "         (dropout): Dropout(p=0.0, inplace=False)\n",
       "       )\n",
       "       (output): DeiTSelfOutput(\n",
       "         (dense): Linear(in_features=192, out_features=192, bias=True)\n",
       "         (dropout): Dropout(p=0.0, inplace=False)\n",
       "       )\n",
       "     )\n",
       "     (intermediate): DeiTIntermediate(\n",
       "       (dense): Linear(in_features=192, out_features=768, bias=True)\n",
       "       (intermediate_act_fn): GELUActivation()\n",
       "     )\n",
       "     (output): DeiTOutput(\n",
       "       (dense): Linear(in_features=768, out_features=192, bias=True)\n",
       "       (dropout): Dropout(p=0.0, inplace=False)\n",
       "     )\n",
       "     (layernorm_before): LayerNorm((192,), eps=1e-12, elementwise_affine=True)\n",
       "     (layernorm_after): LayerNorm((192,), eps=1e-12, elementwise_affine=True)\n",
       "   )\n",
       " ),\n",
       " Sequential(\n",
       "   (0): DeiTLayer(\n",
       "     (attention): DeiTAttention(\n",
       "       (attention): DeiTSelfAttention(\n",
       "         (query): Linear(in_features=192, out_features=192, bias=True)\n",
       "         (key): Linear(in_features=192, out_features=192, bias=True)\n",
       "         (value): Linear(in_features=192, out_features=192, bias=True)\n",
       "         (dropout): Dropout(p=0.0, inplace=False)\n",
       "       )\n",
       "       (output): DeiTSelfOutput(\n",
       "         (dense): Linear(in_features=192, out_features=192, bias=True)\n",
       "         (dropout): Dropout(p=0.0, inplace=False)\n",
       "       )\n",
       "     )\n",
       "     (intermediate): DeiTIntermediate(\n",
       "       (dense): Linear(in_features=192, out_features=768, bias=True)\n",
       "       (intermediate_act_fn): GELUActivation()\n",
       "     )\n",
       "     (output): DeiTOutput(\n",
       "       (dense): Linear(in_features=768, out_features=192, bias=True)\n",
       "       (dropout): Dropout(p=0.0, inplace=False)\n",
       "     )\n",
       "     (layernorm_before): LayerNorm((192,), eps=1e-12, elementwise_affine=True)\n",
       "     (layernorm_after): LayerNorm((192,), eps=1e-12, elementwise_affine=True)\n",
       "   )\n",
       " ),\n",
       " Sequential(\n",
       "   (0): DeiTLayer(\n",
       "     (attention): DeiTAttention(\n",
       "       (attention): DeiTSelfAttention(\n",
       "         (query): Linear(in_features=192, out_features=192, bias=True)\n",
       "         (key): Linear(in_features=192, out_features=192, bias=True)\n",
       "         (value): Linear(in_features=192, out_features=192, bias=True)\n",
       "         (dropout): Dropout(p=0.0, inplace=False)\n",
       "       )\n",
       "       (output): DeiTSelfOutput(\n",
       "         (dense): Linear(in_features=192, out_features=192, bias=True)\n",
       "         (dropout): Dropout(p=0.0, inplace=False)\n",
       "       )\n",
       "     )\n",
       "     (intermediate): DeiTIntermediate(\n",
       "       (dense): Linear(in_features=192, out_features=768, bias=True)\n",
       "       (intermediate_act_fn): GELUActivation()\n",
       "     )\n",
       "     (output): DeiTOutput(\n",
       "       (dense): Linear(in_features=768, out_features=192, bias=True)\n",
       "       (dropout): Dropout(p=0.0, inplace=False)\n",
       "     )\n",
       "     (layernorm_before): LayerNorm((192,), eps=1e-12, elementwise_affine=True)\n",
       "     (layernorm_after): LayerNorm((192,), eps=1e-12, elementwise_affine=True)\n",
       "   )\n",
       " ),\n",
       " Sequential(\n",
       "   (0): DeiTLayer(\n",
       "     (attention): DeiTAttention(\n",
       "       (attention): DeiTSelfAttention(\n",
       "         (query): Linear(in_features=192, out_features=192, bias=True)\n",
       "         (key): Linear(in_features=192, out_features=192, bias=True)\n",
       "         (value): Linear(in_features=192, out_features=192, bias=True)\n",
       "         (dropout): Dropout(p=0.0, inplace=False)\n",
       "       )\n",
       "       (output): DeiTSelfOutput(\n",
       "         (dense): Linear(in_features=192, out_features=192, bias=True)\n",
       "         (dropout): Dropout(p=0.0, inplace=False)\n",
       "       )\n",
       "     )\n",
       "     (intermediate): DeiTIntermediate(\n",
       "       (dense): Linear(in_features=192, out_features=768, bias=True)\n",
       "       (intermediate_act_fn): GELUActivation()\n",
       "     )\n",
       "     (output): DeiTOutput(\n",
       "       (dense): Linear(in_features=768, out_features=192, bias=True)\n",
       "       (dropout): Dropout(p=0.0, inplace=False)\n",
       "     )\n",
       "     (layernorm_before): LayerNorm((192,), eps=1e-12, elementwise_affine=True)\n",
       "     (layernorm_after): LayerNorm((192,), eps=1e-12, elementwise_affine=True)\n",
       "   )\n",
       " ),\n",
       " Sequential(\n",
       "   (0): DeiTLayer(\n",
       "     (attention): DeiTAttention(\n",
       "       (attention): DeiTSelfAttention(\n",
       "         (query): Linear(in_features=192, out_features=192, bias=True)\n",
       "         (key): Linear(in_features=192, out_features=192, bias=True)\n",
       "         (value): Linear(in_features=192, out_features=192, bias=True)\n",
       "         (dropout): Dropout(p=0.0, inplace=False)\n",
       "       )\n",
       "       (output): DeiTSelfOutput(\n",
       "         (dense): Linear(in_features=192, out_features=192, bias=True)\n",
       "         (dropout): Dropout(p=0.0, inplace=False)\n",
       "       )\n",
       "     )\n",
       "     (intermediate): DeiTIntermediate(\n",
       "       (dense): Linear(in_features=192, out_features=768, bias=True)\n",
       "       (intermediate_act_fn): GELUActivation()\n",
       "     )\n",
       "     (output): DeiTOutput(\n",
       "       (dense): Linear(in_features=768, out_features=192, bias=True)\n",
       "       (dropout): Dropout(p=0.0, inplace=False)\n",
       "     )\n",
       "     (layernorm_before): LayerNorm((192,), eps=1e-12, elementwise_affine=True)\n",
       "     (layernorm_after): LayerNorm((192,), eps=1e-12, elementwise_affine=True)\n",
       "   )\n",
       " ),\n",
       " Sequential(\n",
       "   (0): DeiTLayer(\n",
       "     (attention): DeiTAttention(\n",
       "       (attention): DeiTSelfAttention(\n",
       "         (query): Linear(in_features=192, out_features=192, bias=True)\n",
       "         (key): Linear(in_features=192, out_features=192, bias=True)\n",
       "         (value): Linear(in_features=192, out_features=192, bias=True)\n",
       "         (dropout): Dropout(p=0.0, inplace=False)\n",
       "       )\n",
       "       (output): DeiTSelfOutput(\n",
       "         (dense): Linear(in_features=192, out_features=192, bias=True)\n",
       "         (dropout): Dropout(p=0.0, inplace=False)\n",
       "       )\n",
       "     )\n",
       "     (intermediate): DeiTIntermediate(\n",
       "       (dense): Linear(in_features=192, out_features=768, bias=True)\n",
       "       (intermediate_act_fn): GELUActivation()\n",
       "     )\n",
       "     (output): DeiTOutput(\n",
       "       (dense): Linear(in_features=768, out_features=192, bias=True)\n",
       "       (dropout): Dropout(p=0.0, inplace=False)\n",
       "     )\n",
       "     (layernorm_before): LayerNorm((192,), eps=1e-12, elementwise_affine=True)\n",
       "     (layernorm_after): LayerNorm((192,), eps=1e-12, elementwise_affine=True)\n",
       "   )\n",
       " ),\n",
       " Sequential(\n",
       "   (0): DeiTLayer(\n",
       "     (attention): DeiTAttention(\n",
       "       (attention): DeiTSelfAttention(\n",
       "         (query): Linear(in_features=192, out_features=192, bias=True)\n",
       "         (key): Linear(in_features=192, out_features=192, bias=True)\n",
       "         (value): Linear(in_features=192, out_features=192, bias=True)\n",
       "         (dropout): Dropout(p=0.0, inplace=False)\n",
       "       )\n",
       "       (output): DeiTSelfOutput(\n",
       "         (dense): Linear(in_features=192, out_features=192, bias=True)\n",
       "         (dropout): Dropout(p=0.0, inplace=False)\n",
       "       )\n",
       "     )\n",
       "     (intermediate): DeiTIntermediate(\n",
       "       (dense): Linear(in_features=192, out_features=768, bias=True)\n",
       "       (intermediate_act_fn): GELUActivation()\n",
       "     )\n",
       "     (output): DeiTOutput(\n",
       "       (dense): Linear(in_features=768, out_features=192, bias=True)\n",
       "       (dropout): Dropout(p=0.0, inplace=False)\n",
       "     )\n",
       "     (layernorm_before): LayerNorm((192,), eps=1e-12, elementwise_affine=True)\n",
       "     (layernorm_after): LayerNorm((192,), eps=1e-12, elementwise_affine=True)\n",
       "   )\n",
       " ),\n",
       " Sequential(\n",
       "   (0): DeiTLayer(\n",
       "     (attention): DeiTAttention(\n",
       "       (attention): DeiTSelfAttention(\n",
       "         (query): Linear(in_features=192, out_features=192, bias=True)\n",
       "         (key): Linear(in_features=192, out_features=192, bias=True)\n",
       "         (value): Linear(in_features=192, out_features=192, bias=True)\n",
       "         (dropout): Dropout(p=0.0, inplace=False)\n",
       "       )\n",
       "       (output): DeiTSelfOutput(\n",
       "         (dense): Linear(in_features=192, out_features=192, bias=True)\n",
       "         (dropout): Dropout(p=0.0, inplace=False)\n",
       "       )\n",
       "     )\n",
       "     (intermediate): DeiTIntermediate(\n",
       "       (dense): Linear(in_features=192, out_features=768, bias=True)\n",
       "       (intermediate_act_fn): GELUActivation()\n",
       "     )\n",
       "     (output): DeiTOutput(\n",
       "       (dense): Linear(in_features=768, out_features=192, bias=True)\n",
       "       (dropout): Dropout(p=0.0, inplace=False)\n",
       "     )\n",
       "     (layernorm_before): LayerNorm((192,), eps=1e-12, elementwise_affine=True)\n",
       "     (layernorm_after): LayerNorm((192,), eps=1e-12, elementwise_affine=True)\n",
       "   )\n",
       " )]"
      ]
     },
     "execution_count": 19,
     "metadata": {},
     "output_type": "execute_result"
    }
   ],
   "source": [
    "list_secquence"
   ]
  },
  {
   "cell_type": "code",
   "execution_count": 4,
   "metadata": {},
   "outputs": [
    {
     "data": {
      "text/plain": [
       "5338752"
      ]
     },
     "execution_count": 4,
     "metadata": {},
     "output_type": "execute_result"
    }
   ],
   "source": [
    "total_params = sum(p.numel() for p in encoder_layer.parameters())\n",
    "total_params"
   ]
  },
  {
   "cell_type": "code",
   "execution_count": 5,
   "metadata": {},
   "outputs": [
    {
     "name": "stdout",
     "output_type": "stream",
     "text": [
      "torch.Size([2, 197, 192])\n"
     ]
    },
    {
     "ename": "TypeError",
     "evalue": "layer_norm(): argument 'input' (position 1) must be Tensor, not BaseModelOutput",
     "output_type": "error",
     "traceback": [
      "\u001b[0;31m---------------------------------------------------------------------------\u001b[0m",
      "\u001b[0;31mTypeError\u001b[0m                                 Traceback (most recent call last)",
      "Cell \u001b[0;32mIn[5], line 3\u001b[0m\n\u001b[1;32m      1\u001b[0m x \u001b[39m=\u001b[39m input_layer(image)\n\u001b[1;32m      2\u001b[0m \u001b[39mprint\u001b[39m(x\u001b[39m.\u001b[39mshape)\n\u001b[0;32m----> 3\u001b[0m x \u001b[39m=\u001b[39m encoder_layer(x)\n\u001b[1;32m      4\u001b[0m y \u001b[39m=\u001b[39m encoder_layer(x)\n\u001b[1;32m      5\u001b[0m x \u001b[39m=\u001b[39m x[:,\u001b[39m1\u001b[39m:,:]\n",
      "File \u001b[0;32m~/miniconda3/lib/python3.11/site-packages/torch/nn/modules/module.py:1501\u001b[0m, in \u001b[0;36mModule._call_impl\u001b[0;34m(self, *args, **kwargs)\u001b[0m\n\u001b[1;32m   1496\u001b[0m \u001b[39m# If we don't have any hooks, we want to skip the rest of the logic in\u001b[39;00m\n\u001b[1;32m   1497\u001b[0m \u001b[39m# this function, and just call forward.\u001b[39;00m\n\u001b[1;32m   1498\u001b[0m \u001b[39mif\u001b[39;00m \u001b[39mnot\u001b[39;00m (\u001b[39mself\u001b[39m\u001b[39m.\u001b[39m_backward_hooks \u001b[39mor\u001b[39;00m \u001b[39mself\u001b[39m\u001b[39m.\u001b[39m_backward_pre_hooks \u001b[39mor\u001b[39;00m \u001b[39mself\u001b[39m\u001b[39m.\u001b[39m_forward_hooks \u001b[39mor\u001b[39;00m \u001b[39mself\u001b[39m\u001b[39m.\u001b[39m_forward_pre_hooks\n\u001b[1;32m   1499\u001b[0m         \u001b[39mor\u001b[39;00m _global_backward_pre_hooks \u001b[39mor\u001b[39;00m _global_backward_hooks\n\u001b[1;32m   1500\u001b[0m         \u001b[39mor\u001b[39;00m _global_forward_hooks \u001b[39mor\u001b[39;00m _global_forward_pre_hooks):\n\u001b[0;32m-> 1501\u001b[0m     \u001b[39mreturn\u001b[39;00m forward_call(\u001b[39m*\u001b[39;49margs, \u001b[39m*\u001b[39;49m\u001b[39m*\u001b[39;49mkwargs)\n\u001b[1;32m   1502\u001b[0m \u001b[39m# Do not call functions when jit is used\u001b[39;00m\n\u001b[1;32m   1503\u001b[0m full_backward_hooks, non_full_backward_hooks \u001b[39m=\u001b[39m [], []\n",
      "File \u001b[0;32m/media/quocviet/New Volume/Comit/FAS/data/Transformers_With_Relation_Aware_Mechanism_For_Face_Anti_Spoofing/model/Layer.py:52\u001b[0m, in \u001b[0;36mEncoder_layer.forward\u001b[0;34m(self, x)\u001b[0m\n\u001b[1;32m     51\u001b[0m \u001b[39mdef\u001b[39;00m \u001b[39mforward\u001b[39m(\u001b[39mself\u001b[39m, x):\n\u001b[0;32m---> 52\u001b[0m     x \u001b[39m=\u001b[39m \u001b[39mself\u001b[39;49m\u001b[39m.\u001b[39;49mencoder_layer(x)\n\u001b[1;32m     53\u001b[0m     \u001b[39mreturn\u001b[39;00m x\u001b[39m.\u001b[39mlast_hidden_state\n",
      "File \u001b[0;32m~/miniconda3/lib/python3.11/site-packages/torch/nn/modules/module.py:1501\u001b[0m, in \u001b[0;36mModule._call_impl\u001b[0;34m(self, *args, **kwargs)\u001b[0m\n\u001b[1;32m   1496\u001b[0m \u001b[39m# If we don't have any hooks, we want to skip the rest of the logic in\u001b[39;00m\n\u001b[1;32m   1497\u001b[0m \u001b[39m# this function, and just call forward.\u001b[39;00m\n\u001b[1;32m   1498\u001b[0m \u001b[39mif\u001b[39;00m \u001b[39mnot\u001b[39;00m (\u001b[39mself\u001b[39m\u001b[39m.\u001b[39m_backward_hooks \u001b[39mor\u001b[39;00m \u001b[39mself\u001b[39m\u001b[39m.\u001b[39m_backward_pre_hooks \u001b[39mor\u001b[39;00m \u001b[39mself\u001b[39m\u001b[39m.\u001b[39m_forward_hooks \u001b[39mor\u001b[39;00m \u001b[39mself\u001b[39m\u001b[39m.\u001b[39m_forward_pre_hooks\n\u001b[1;32m   1499\u001b[0m         \u001b[39mor\u001b[39;00m _global_backward_pre_hooks \u001b[39mor\u001b[39;00m _global_backward_hooks\n\u001b[1;32m   1500\u001b[0m         \u001b[39mor\u001b[39;00m _global_forward_hooks \u001b[39mor\u001b[39;00m _global_forward_pre_hooks):\n\u001b[0;32m-> 1501\u001b[0m     \u001b[39mreturn\u001b[39;00m forward_call(\u001b[39m*\u001b[39;49margs, \u001b[39m*\u001b[39;49m\u001b[39m*\u001b[39;49mkwargs)\n\u001b[1;32m   1502\u001b[0m \u001b[39m# Do not call functions when jit is used\u001b[39;00m\n\u001b[1;32m   1503\u001b[0m full_backward_hooks, non_full_backward_hooks \u001b[39m=\u001b[39m [], []\n",
      "File \u001b[0;32m~/miniconda3/lib/python3.11/site-packages/torch/nn/modules/container.py:217\u001b[0m, in \u001b[0;36mSequential.forward\u001b[0;34m(self, input)\u001b[0m\n\u001b[1;32m    215\u001b[0m \u001b[39mdef\u001b[39;00m \u001b[39mforward\u001b[39m(\u001b[39mself\u001b[39m, \u001b[39minput\u001b[39m):\n\u001b[1;32m    216\u001b[0m     \u001b[39mfor\u001b[39;00m module \u001b[39min\u001b[39;00m \u001b[39mself\u001b[39m:\n\u001b[0;32m--> 217\u001b[0m         \u001b[39minput\u001b[39m \u001b[39m=\u001b[39m module(\u001b[39minput\u001b[39;49m)\n\u001b[1;32m    218\u001b[0m     \u001b[39mreturn\u001b[39;00m \u001b[39minput\u001b[39m\n",
      "File \u001b[0;32m~/miniconda3/lib/python3.11/site-packages/torch/nn/modules/module.py:1501\u001b[0m, in \u001b[0;36mModule._call_impl\u001b[0;34m(self, *args, **kwargs)\u001b[0m\n\u001b[1;32m   1496\u001b[0m \u001b[39m# If we don't have any hooks, we want to skip the rest of the logic in\u001b[39;00m\n\u001b[1;32m   1497\u001b[0m \u001b[39m# this function, and just call forward.\u001b[39;00m\n\u001b[1;32m   1498\u001b[0m \u001b[39mif\u001b[39;00m \u001b[39mnot\u001b[39;00m (\u001b[39mself\u001b[39m\u001b[39m.\u001b[39m_backward_hooks \u001b[39mor\u001b[39;00m \u001b[39mself\u001b[39m\u001b[39m.\u001b[39m_backward_pre_hooks \u001b[39mor\u001b[39;00m \u001b[39mself\u001b[39m\u001b[39m.\u001b[39m_forward_hooks \u001b[39mor\u001b[39;00m \u001b[39mself\u001b[39m\u001b[39m.\u001b[39m_forward_pre_hooks\n\u001b[1;32m   1499\u001b[0m         \u001b[39mor\u001b[39;00m _global_backward_pre_hooks \u001b[39mor\u001b[39;00m _global_backward_hooks\n\u001b[1;32m   1500\u001b[0m         \u001b[39mor\u001b[39;00m _global_forward_hooks \u001b[39mor\u001b[39;00m _global_forward_pre_hooks):\n\u001b[0;32m-> 1501\u001b[0m     \u001b[39mreturn\u001b[39;00m forward_call(\u001b[39m*\u001b[39;49margs, \u001b[39m*\u001b[39;49m\u001b[39m*\u001b[39;49mkwargs)\n\u001b[1;32m   1502\u001b[0m \u001b[39m# Do not call functions when jit is used\u001b[39;00m\n\u001b[1;32m   1503\u001b[0m full_backward_hooks, non_full_backward_hooks \u001b[39m=\u001b[39m [], []\n",
      "File \u001b[0;32m~/miniconda3/lib/python3.11/site-packages/torch/nn/modules/normalization.py:190\u001b[0m, in \u001b[0;36mLayerNorm.forward\u001b[0;34m(self, input)\u001b[0m\n\u001b[1;32m    189\u001b[0m \u001b[39mdef\u001b[39;00m \u001b[39mforward\u001b[39m(\u001b[39mself\u001b[39m, \u001b[39minput\u001b[39m: Tensor) \u001b[39m-\u001b[39m\u001b[39m>\u001b[39m Tensor:\n\u001b[0;32m--> 190\u001b[0m     \u001b[39mreturn\u001b[39;00m F\u001b[39m.\u001b[39;49mlayer_norm(\n\u001b[1;32m    191\u001b[0m         \u001b[39minput\u001b[39;49m, \u001b[39mself\u001b[39;49m\u001b[39m.\u001b[39;49mnormalized_shape, \u001b[39mself\u001b[39;49m\u001b[39m.\u001b[39;49mweight, \u001b[39mself\u001b[39;49m\u001b[39m.\u001b[39;49mbias, \u001b[39mself\u001b[39;49m\u001b[39m.\u001b[39;49meps)\n",
      "File \u001b[0;32m~/miniconda3/lib/python3.11/site-packages/torch/nn/functional.py:2515\u001b[0m, in \u001b[0;36mlayer_norm\u001b[0;34m(input, normalized_shape, weight, bias, eps)\u001b[0m\n\u001b[1;32m   2511\u001b[0m \u001b[39mif\u001b[39;00m has_torch_function_variadic(\u001b[39minput\u001b[39m, weight, bias):\n\u001b[1;32m   2512\u001b[0m     \u001b[39mreturn\u001b[39;00m handle_torch_function(\n\u001b[1;32m   2513\u001b[0m         layer_norm, (\u001b[39minput\u001b[39m, weight, bias), \u001b[39minput\u001b[39m, normalized_shape, weight\u001b[39m=\u001b[39mweight, bias\u001b[39m=\u001b[39mbias, eps\u001b[39m=\u001b[39meps\n\u001b[1;32m   2514\u001b[0m     )\n\u001b[0;32m-> 2515\u001b[0m \u001b[39mreturn\u001b[39;00m torch\u001b[39m.\u001b[39;49mlayer_norm(\u001b[39minput\u001b[39;49m, normalized_shape, weight, bias, eps, torch\u001b[39m.\u001b[39;49mbackends\u001b[39m.\u001b[39;49mcudnn\u001b[39m.\u001b[39;49menabled)\n",
      "\u001b[0;31mTypeError\u001b[0m: layer_norm(): argument 'input' (position 1) must be Tensor, not BaseModelOutput"
     ]
    }
   ],
   "source": [
    "x = input_layer(image)\n",
    "print(x.shape)\n",
    "x = encoder_layer(x)\n",
    "y = encoder_layer(x)\n",
    "x = x[:,1:,:]\n",
    "y = y[:,1:,:]\n",
    "# x = x.reshape(2, 14, 14, 768)\n",
    "# x = x.permute(0, 3, 1, 2)\n",
    "tmp = cra(x, y)\n",
    "tmp.shape"
   ]
  },
  {
   "cell_type": "code",
   "execution_count": null,
   "metadata": {},
   "outputs": [
    {
     "data": {
      "text/plain": [
       "torch.Size([2, 196, 192])"
      ]
     },
     "execution_count": 5,
     "metadata": {},
     "output_type": "execute_result"
    }
   ],
   "source": [
    "x.shape"
   ]
  },
  {
   "cell_type": "code",
   "execution_count": null,
   "metadata": {},
   "outputs": [
    {
     "data": {
      "text/plain": [
       "torch.Size([2, 192, 196])"
      ]
     },
     "execution_count": 6,
     "metadata": {},
     "output_type": "execute_result"
    }
   ],
   "source": [
    "tmp.shape"
   ]
  },
  {
   "cell_type": "code",
   "execution_count": 1,
   "metadata": {},
   "outputs": [],
   "source": [
    "from model.ViT_CRA import ViT_CRA\n",
    "\n",
    "model = ViT_CRA()\n",
    "total_params = sum(p.numel() for p in model.parameters())"
   ]
  },
  {
   "cell_type": "code",
   "execution_count": 2,
   "metadata": {},
   "outputs": [
    {
     "data": {
      "text/plain": [
       "24230126"
      ]
     },
     "execution_count": 2,
     "metadata": {},
     "output_type": "execute_result"
    }
   ],
   "source": [
    "total_params"
   ]
  }
 ],
 "metadata": {
  "kernelspec": {
   "display_name": "Python 3",
   "language": "python",
   "name": "python3"
  },
  "language_info": {
   "codemirror_mode": {
    "name": "ipython",
    "version": 3
   },
   "file_extension": ".py",
   "mimetype": "text/x-python",
   "name": "python",
   "nbconvert_exporter": "python",
   "pygments_lexer": "ipython3",
   "version": "3.9.6"
  },
  "orig_nbformat": 4
 },
 "nbformat": 4,
 "nbformat_minor": 2
}
