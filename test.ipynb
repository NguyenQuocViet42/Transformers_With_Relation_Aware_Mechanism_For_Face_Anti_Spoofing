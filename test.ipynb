{
 "cells": [
  {
   "cell_type": "code",
   "execution_count": 1,
   "metadata": {},
   "outputs": [
    {
     "data": {
      "text/plain": [
       "torch.Size([2, 224, 224, 3])"
      ]
     },
     "execution_count": 1,
     "metadata": {},
     "output_type": "execute_result"
    }
   ],
   "source": [
    "import cv2\n",
    "import torch\n",
    "\n",
    "image = cv2.imread('514508.png')\n",
    "image = cv2.resize(image, (224,224))\n",
    "image = torch.tensor(image, dtype=torch.float)\n",
    "image = image.unsqueeze(0)\n",
    "image = torch.cat((image, image),  dim = 0)\n",
    "image.shape"
   ]
  },
  {
   "cell_type": "code",
   "execution_count": 2,
   "metadata": {},
   "outputs": [],
   "source": [
    "from model import Layer\n",
    "\n",
    "input_layer = Layer.Input_layer()\n",
    "encoder_layer = Layer.Encoder_layer()\n",
    "decoder_layer = Layer.Decoder_layer()\n",
    "cra = Layer.CRA()"
   ]
  },
  {
   "cell_type": "code",
   "execution_count": 3,
   "metadata": {},
   "outputs": [
    {
     "data": {
      "text/plain": [
       "torch.Size([2, 768, 196])"
      ]
     },
     "execution_count": 3,
     "metadata": {},
     "output_type": "execute_result"
    }
   ],
   "source": [
    "x = input_layer(image)\n",
    "x = encoder_layer(x)\n",
    "y = encoder_layer(x)\n",
    "x = x[:,1:,:]\n",
    "y = y[:,1:,:]\n",
    "# x = x.reshape(2, 14, 14, 768)\n",
    "# x = x.permute(0, 3, 1, 2)\n",
    "tmp = cra(x, y)\n",
    "tmp.shape"
   ]
  },
  {
   "cell_type": "code",
   "execution_count": 4,
   "metadata": {},
   "outputs": [
    {
     "data": {
      "text/plain": [
       "torch.Size([2, 768, 196])"
      ]
     },
     "execution_count": 4,
     "metadata": {},
     "output_type": "execute_result"
    }
   ],
   "source": [
    "tmp.shape"
   ]
  },
  {
   "cell_type": "code",
   "execution_count": 5,
   "metadata": {},
   "outputs": [],
   "source": [
    "from model.ViT_CRA import ViT_CRA\n",
    "\n",
    "model = ViT_CRA()\n",
    "x, y = model(image)"
   ]
  },
  {
   "cell_type": "code",
   "execution_count": 7,
   "metadata": {},
   "outputs": [
    {
     "data": {
      "text/plain": [
       "torch.Size([2, 1, 28, 28])"
      ]
     },
     "execution_count": 7,
     "metadata": {},
     "output_type": "execute_result"
    }
   ],
   "source": [
    "y.shape"
   ]
  },
  {
   "cell_type": "code",
   "execution_count": 8,
   "metadata": {},
   "outputs": [
    {
     "data": {
      "text/plain": [
       "torch.Size([28, 28])"
      ]
     },
     "execution_count": 8,
     "metadata": {},
     "output_type": "execute_result"
    }
   ],
   "source": [
    "import torch.nn as nn\n",
    "import torch\n",
    "import numpy as np\n",
    "\n",
    "def Contrastive_convolution_kernel(map, index):\n",
    "    # Define a custom 2D convolution kernel (3x3 kernel)\n",
    "    custom_kernel = torch.tensor([[0, 0, 0],\n",
    "                                [0, 1, 0],\n",
    "                                [0, 0, 0]], dtype=torch.float32)\n",
    "    x = index // 3\n",
    "    y = index % 3\n",
    "    custom_kernel[x][y] = -1\n",
    "    map = map.unsqueeze(0).unsqueeze(0)\n",
    "    # Reshape the kernel to match PyTorch's expected shape\n",
    "    # (out_channels, in_channels, kernel_height, kernel_width)\n",
    "    custom_kernel = custom_kernel.view(1, 1, 3, 3)\n",
    "\n",
    "    # Create a custom convolutional layer using the custom kernel\n",
    "    custom_conv_layer = nn.Conv2d(in_channels=1, out_channels=1, kernel_size=3, bias=False, padding = 1)\n",
    "    custom_conv_layer.weight.data = custom_kernel\n",
    "\n",
    "    # Apply the custom convolution layer to the input tensor\n",
    "    output_tensor = custom_conv_layer(map)\n",
    "    return output_tensor[0,0,:,:]\n",
    "\n",
    "map = np.ones((28, 28))\n",
    "map = torch.tensor(map, dtype= torch.float32)\n",
    "Contrastive_convolution_kernel(map, 0).shape"
   ]
  }
 ],
 "metadata": {
  "kernelspec": {
   "display_name": "Python 3",
   "language": "python",
   "name": "python3"
  },
  "language_info": {
   "codemirror_mode": {
    "name": "ipython",
    "version": 3
   },
   "file_extension": ".py",
   "mimetype": "text/x-python",
   "name": "python",
   "nbconvert_exporter": "python",
   "pygments_lexer": "ipython3",
   "version": "3.11.4"
  },
  "orig_nbformat": 4
 },
 "nbformat": 4,
 "nbformat_minor": 2
}
